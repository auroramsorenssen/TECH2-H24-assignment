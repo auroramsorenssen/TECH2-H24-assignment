{
 "cells": [
  {
   "cell_type": "markdown",
   "metadata": {},
   "source": [
    "# TECH 2 mandatory assignment - Part B\n",
    "\n",
    "Write your solution for Part B in this notebook."
   ]
  },
  {
   "cell_type": "code",
   "execution_count": 4,
   "metadata": {},
   "outputs": [],
   "source": [
    "data_file = open(\"data.csv\", \"r\") #Opening the data file\n",
    "lines = data_file.readlines() #Reading all the lines of the file\n",
    "data_file.close() #Closing the file"
   ]
  },
  {
   "cell_type": "code",
   "execution_count": 17,
   "metadata": {},
   "outputs": [
    {
     "name": "stdout",
     "output_type": "stream",
     "text": [
      "100\n",
      "1000\n",
      "10000\n"
     ]
    }
   ],
   "source": [
    "data_lst1 = [] #Defining the first column as an empty list\n",
    "for i in range(100):\n",
    "    row = lines[i]\n",
    "    split_row = row.split(',') #Splitting the rows where they are seperated with a comma\n",
    "    #print(split_row)\n",
    "    data_lst1.append(float(split_row[0])) #Adding the first colum to the empty list\n",
    "    \n",
    "print(len(data_lst1)) \n",
    "    \n",
    "#data_lst1\n",
    "\n",
    "data_lst2 = [] #Defining the second column as an empty list\n",
    "for i in range(1000):\n",
    "    row = lines[i]\n",
    "    split_row = row.split(',') #Splitting the rows where they are seperated with a comma\n",
    "    data_lst2.append(float(split_row[1])) #Adding the second colum to the empty list\n",
    "    \n",
    "print(len(data_lst2))\n",
    "\n",
    "#data_lst2\n",
    "\n",
    "data_lst3 = [] #Defining the third column as an empty list\n",
    "for i in range(10000):\n",
    "    row = lines[i]\n",
    "    split_row = row.split(',') #Splitting the rows where they are seperated with a comma\n",
    "    data_lst3.append(float(split_row[2])) #Adding the second colum to the empty list\n",
    "\n",
    "    \n",
    "print(len(data_lst3))\n",
    "\n",
    "#data_lst3"
   ]
  },
  {
   "cell_type": "code",
   "execution_count": 6,
   "metadata": {},
   "outputs": [],
   "source": [
    "from math import sqrt\n",
    "import numpy as np"
   ]
  },
  {
   "cell_type": "code",
   "execution_count": 18,
   "metadata": {},
   "outputs": [
    {
     "name": "stdout",
     "output_type": "stream",
     "text": [
      "The mean of the first column in the data set is given by: 0.47987056184686383\n",
      "The mean of squares of the first column in the data set is given by: 0.310009764483623\n",
      "The varience is given by: 0.07973400835639824\n",
      "The standard deviation is given by: 0.2823721097353601\n",
      "The mean of the first column in the data set is given by: 0.47987056184686383\n",
      "The mean of squares of the first column in the data set is given by: 0.310009764483623\n",
      "The varience is given by: 0.07973400835639824\n",
      "The standard deviation is given by: 0.2823721097353601\n",
      "The standard deviation is given by: 0.28237210973536014\n"
     ]
    }
   ],
   "source": [
    "#for the 1 column in the data set: \n",
    "\n",
    "#Computing the standard deviation of column 1 using loops \n",
    "def std_loops1(data_lst1):\n",
    "    \"Computing the standard deviation of the first column in the data set using loops\"\n",
    "\n",
    "    \"Step 1: computing the mean\"\n",
    "    total_num = 0\n",
    "\n",
    "   \n",
    "    for i in range(100):\n",
    "        total_num = total_num + data_lst1[i]\n",
    "\n",
    "    mean = total_num/100\n",
    "\n",
    "\n",
    "    \"Step 2: computing the mean of squares\"\n",
    "    total_Snum = 0\n",
    "\n",
    "    for i in range(100):\n",
    "        total_Snum = total_Snum + data_lst1[i]**2\n",
    "\n",
    "    Smean = total_Snum/100\n",
    "\n",
    "\n",
    "    \"Step 3: computing the variance\"\n",
    "    var = Smean - mean**2\n",
    "\n",
    "\n",
    "    \"Step 4: computing standard deviation\"\n",
    "    std = sqrt(var)\n",
    "\n",
    "    \"Printing out all the numbers to visualize them\"\n",
    "    print(f'The mean of the first column in the data set is given by: {mean}')\n",
    "    print(f'The mean of squares of the first column in the data set is given by: {Smean}')\n",
    "    print(f'The varience is given by: {var}')\n",
    "    print(f'The standard deviation is given by: {std}')\n",
    "\n",
    "    \"Returning the function\"\n",
    "    return \n",
    "\n",
    "\"Calling the function\"\n",
    "std_loops1(data_lst1)\n",
    "\n",
    "\n",
    "\n",
    "#Computing the standard deviation of column 1 using built-in funtions sum() and len()\n",
    "\n",
    "def std_builtin(data_lst1):\n",
    "\n",
    "    \"Step 1: computing the mean\"\n",
    "    mean = (sum(data_lst1))/len(data_lst1)\n",
    "    \n",
    "    \"Step 2: computing the mean of squares\"\n",
    "    total_Snum = 0\n",
    "\n",
    "    for i in range(len(data_lst1)):\n",
    "        total_Snum = total_Snum + data_lst1[i]**2\n",
    "    \n",
    "    Smean = total_Snum/len(data_lst1)\n",
    "\n",
    "    \"Step 3: computing the variance\"\n",
    "    var = Smean - mean**2\n",
    "\n",
    "    \"Step 4: computing standard deviation\"\n",
    "    std = sqrt(var)\n",
    "\n",
    "    \"Printing out all the numbers to visualize them\"\n",
    "    print(f'The mean of the first column in the data set is given by: {mean}')\n",
    "    print(f'The mean of squares of the first column in the data set is given by: {Smean}')\n",
    "    print(f'The varience is given by: {var}')\n",
    "    print(f'The standard deviation is given by: {std}')\n",
    "\n",
    "    \"Returning the function\"\n",
    "    return \n",
    "\n",
    "\"Calling the function\"\n",
    "std_builtin(data_lst1)\n",
    "\n",
    "\n",
    "\n",
    "#Computing the standard deviation of column 1 using the pre-existing function for standard deviation\n",
    "std_preexisting1 = np.std(data_lst1)\n",
    "print(f'The standard deviation is given by: {std_preexisting1}')"
   ]
  },
  {
   "cell_type": "code",
   "execution_count": 19,
   "metadata": {},
   "outputs": [
    {
     "name": "stdout",
     "output_type": "stream",
     "text": [
      "The mean of the second column in the data set is given by: 0.503574381160747\n",
      "The mean of squares of the second column in the data set is given by: 0.3346266900733541\n",
      "The varience is given by: 0.08103953271192477\n",
      "The standard deviation is given by: 0.28467443283850546\n",
      "The mean of the first column in the data set is given by: 0.503574381160747\n",
      "The mean of squares of the first column in the data set is given by: 0.3346266900733541\n",
      "The varience is given by: 0.08103953271192477\n",
      "The standard deviation is given by: 0.28467443283850546\n",
      "The standard deviation is given by: 0.28467443283850596\n"
     ]
    }
   ],
   "source": [
    "#for the 2 column in the data set: \n",
    "\n",
    "\n",
    "#Computing the standard deviation of column 2 using loops \n",
    "def std_loops2(data_lst2):\n",
    "    \"Computing the standard deviation of the second column in the data using loops\"\n",
    "\n",
    "    \"Step 1: computing the mean\"\n",
    "    total_num = 0\n",
    "\n",
    "   \n",
    "    for i in range(1000):\n",
    "        total_num = total_num + data_lst2[i]\n",
    "\n",
    "    mean = total_num/1000\n",
    "\n",
    "\n",
    "    \"Step 2: computing the mean of squares\"\n",
    "    total_Snum = 0\n",
    "\n",
    "    for i in range(1000):\n",
    "        total_Snum = total_Snum + data_lst2[i]**2\n",
    "\n",
    "    Smean = total_Snum/1000\n",
    "\n",
    "\n",
    "    \"Step 3: computing the variance\"\n",
    "    var = Smean - mean**2\n",
    "\n",
    "\n",
    "    \"Step 4: computing standard deviation\"\n",
    "    std = sqrt(var)\n",
    "\n",
    "    \"Printing out all the numbers to visualize them\"\n",
    "    print(f'The mean of the second column in the data set is given by: {mean}')\n",
    "    print(f'The mean of squares of the second column in the data set is given by: {Smean}')\n",
    "    print(f'The varience is given by: {var}')\n",
    "    print(f'The standard deviation is given by: {std}')\n",
    "\n",
    "    \"Returning the function \"\n",
    "    return \n",
    "\n",
    "\"Calling the function\"\n",
    "std_loops2(data_lst2)\n",
    "\n",
    "\n",
    "\n",
    "#Computing the standard deviation of column 2 using built-in funtions sum() and len() \n",
    "std_builtin(data_lst2)\n",
    "\n",
    "\n",
    "#Computing the standard deviation of column 2 using the pre-existing function for standard deviation \n",
    "std_preexisting2 = np.std(data_lst2)\n",
    "print(f'The standard deviation is given by: {std_preexisting2}')"
   ]
  },
  {
   "cell_type": "code",
   "execution_count": 20,
   "metadata": {},
   "outputs": [
    {
     "name": "stdout",
     "output_type": "stream",
     "text": [
      "The mean of the third column in the data set is given by: 0.4944075587918195\n",
      "The mean of squares of the third column in the data set is given by: 0.32589457819267864\n",
      "The varience is given by: 0.08145574400219216\n",
      "The standard deviation is given by: 0.2854045269476155\n",
      "The mean of the first column in the data set is given by: 0.4944075587918195\n",
      "The mean of squares of the first column in the data set is given by: 0.32589457819267864\n",
      "The varience is given by: 0.08145574400219216\n",
      "The standard deviation is given by: 0.2854045269476155\n",
      "The standard deviation is given by: 0.2854045269476156\n"
     ]
    }
   ],
   "source": [
    "#for the 3 column in the data set: \n",
    "\n",
    "\n",
    "#Computing the standard deviation of column 3 using loops \n",
    "def std_loops3(data_lst3):\n",
    "    \"Computing the standard deviation of the third column in the data set using loops\"\n",
    "\n",
    "    \"Step 1: computing the mean\"\n",
    "    total_num = 0\n",
    "\n",
    "   \n",
    "    for i in range(10000):\n",
    "        total_num = total_num + data_lst3[i]\n",
    "\n",
    "    mean = total_num/10000\n",
    "\n",
    "\n",
    "    \"Step 2: computing the mean of squares\"\n",
    "    total_Snum = 0\n",
    "\n",
    "    for i in range(10000):\n",
    "        total_Snum = total_Snum + data_lst3[i]**2\n",
    "\n",
    "    Smean = total_Snum/10000\n",
    "\n",
    "\n",
    "    \"Step 3: computing the variance\"\n",
    "    var = Smean - mean**2\n",
    "\n",
    "\n",
    "    \"Step 4: computing standard deviation\"\n",
    "    std = sqrt(var)\n",
    "\n",
    "    \"Printing out all the numbers to visualize them\"\n",
    "    print(f'The mean of the third column in the data set is given by: {mean}')\n",
    "    print(f'The mean of squares of the third column in the data set is given by: {Smean}')\n",
    "    print(f'The varience is given by: {var}')\n",
    "    print(f'The standard deviation is given by: {std}')\n",
    "\n",
    "    \"Returning the function \"\n",
    "    return \n",
    "\n",
    "\"Calling the function\"\n",
    "std_loops3(data_lst3)\n",
    "\n",
    "\n",
    "\n",
    "\n",
    "#Computing the standard deviation of column 3 using built-in funtions sum() and len()\n",
    "\n",
    "std_builtin(data_lst3)\n",
    "\n",
    "\n",
    "\n",
    "#Computing the standard deviation of column 3 using the pre-existing function for standard deviation \n",
    "std_preexisting3 = np.std(data_lst3)\n",
    "print(f'The standard deviation is given by: {std_preexisting3}')\n"
   ]
  },
  {
   "cell_type": "code",
   "execution_count": 21,
   "metadata": {},
   "outputs": [
    {
     "name": "stdout",
     "output_type": "stream",
     "text": [
      "18.3 ns ± 0.419 ns per loop (mean ± std. dev. of 7 runs, 10000000 loops each)\n",
      "18.3 ns ± 0.22 ns per loop (mean ± std. dev. of 7 runs, 10000000 loops each)\n",
      "17.8 ns ± 0.354 ns per loop (mean ± std. dev. of 7 runs, 10000000 loops each)\n"
     ]
    }
   ],
   "source": [
    "#Lets plot the time of the caluculations\n",
    "\n",
    "#First column in the data set:\n",
    "%timeit std_loops1\n",
    "%timeit std_builtin1\n",
    "%timeit std_preexisting1"
   ]
  },
  {
   "cell_type": "markdown",
   "metadata": {},
   "source": [
    "For the calculations of the standard deviation time of the sequence of 100 numbers, the fastest aproach is the pre-existing function std() in NumPy."
   ]
  },
  {
   "cell_type": "code",
   "execution_count": 24,
   "metadata": {},
   "outputs": [
    {
     "name": "stdout",
     "output_type": "stream",
     "text": [
      "17.6 ns ± 0.575 ns per loop (mean ± std. dev. of 7 runs, 10000000 loops each)\n",
      "17.4 ns ± 0.139 ns per loop (mean ± std. dev. of 7 runs, 10000000 loops each)\n",
      "19 ns ± 0.0674 ns per loop (mean ± std. dev. of 7 runs, 10000000 loops each)\n"
     ]
    }
   ],
   "source": [
    "#Second column in the data set:\n",
    "%timeit std_loops2\n",
    "%timeit std_builtin2\n",
    "%timeit std_preexisting2"
   ]
  },
  {
   "cell_type": "markdown",
   "metadata": {},
   "source": [
    "For the calculations of the standard deviation time of the sequence of 1000 numbers, the fastest aproach is the built-in functions such as sum() and len()."
   ]
  },
  {
   "cell_type": "code",
   "execution_count": 23,
   "metadata": {
    "scrolled": true
   },
   "outputs": [
    {
     "name": "stdout",
     "output_type": "stream",
     "text": [
      "18.3 ns ± 0.123 ns per loop (mean ± std. dev. of 7 runs, 10000000 loops each)\n",
      "23 ns ± 7.7 ns per loop (mean ± std. dev. of 7 runs, 10000000 loops each)\n",
      "17.5 ns ± 0.221 ns per loop (mean ± std. dev. of 7 runs, 10000000 loops each)\n"
     ]
    }
   ],
   "source": [
    "#third column in the data set:\n",
    "%timeit std_loops3\n",
    "%timeit std_builtin3\n",
    "%timeit std_preexisting3"
   ]
  },
  {
   "cell_type": "markdown",
   "metadata": {},
   "source": [
    "For the calculations of the standard deviation time of the sequence of 10 000 numbers, the fastest aproach is the pre-existing function std() in NumPy."
   ]
  },
  {
   "cell_type": "markdown",
   "metadata": {},
   "source": [
    "To summarize, the aproach for calculation the standard deviation time does not really matter as the differences in time are very similar. If the difference in number of sequences were greater between the data sets the aproach will most likely matter. In this case there are other parts of the program than reading through the data sets that take longer time and are the main consumers of time. "
   ]
  }
 ],
 "metadata": {
  "kernelspec": {
   "display_name": "Python 3 (ipykernel)",
   "language": "python",
   "name": "python3"
  },
  "language_info": {
   "codemirror_mode": {
    "name": "ipython",
    "version": 3
   },
   "file_extension": ".py",
   "mimetype": "text/x-python",
   "name": "python",
   "nbconvert_exporter": "python",
   "pygments_lexer": "ipython3",
   "version": "3.12.5"
  }
 },
 "nbformat": 4,
 "nbformat_minor": 2
}
